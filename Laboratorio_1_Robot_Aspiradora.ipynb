{
 "nbformat": 4,
 "nbformat_minor": 0,
 "metadata": {
  "colab": {
   "provenance": []
  },
  "kernelspec": {
   "name": "python3",
   "display_name": "Python 3 (ipykernel)",
   "language": "python"
  },
  "widgets": {
   "application/vnd.jupyter.widget-state+json": {
    "4e33da7ebff24a4d938b7ea712fae719": {
     "model_module": "@jupyter-widgets/controls",
     "model_name": "HTMLModel",
     "model_module_version": "1.5.0",
     "state": {
      "_dom_classes": [],
      "_model_module": "@jupyter-widgets/controls",
      "_model_module_version": "1.5.0",
      "_model_name": "HTMLModel",
      "_view_count": null,
      "_view_module": "@jupyter-widgets/controls",
      "_view_module_version": "1.5.0",
      "_view_name": "HTMLView",
      "description": "",
      "description_tooltip": null,
      "layout": "IPY_MODEL_e91af48f49184f759864b6c7078e15d9",
      "placeholder": "​",
      "style": "IPY_MODEL_9fe997af05ff412b8b8b33a9ff448d5d",
      "value": ""
     }
    },
    "e91af48f49184f759864b6c7078e15d9": {
     "model_module": "@jupyter-widgets/base",
     "model_name": "LayoutModel",
     "model_module_version": "1.2.0",
     "state": {
      "_model_module": "@jupyter-widgets/base",
      "_model_module_version": "1.2.0",
      "_model_name": "LayoutModel",
      "_view_count": null,
      "_view_module": "@jupyter-widgets/base",
      "_view_module_version": "1.2.0",
      "_view_name": "LayoutView",
      "align_content": null,
      "align_items": null,
      "align_self": null,
      "border": null,
      "bottom": null,
      "display": null,
      "flex": null,
      "flex_flow": null,
      "grid_area": null,
      "grid_auto_columns": null,
      "grid_auto_flow": null,
      "grid_auto_rows": null,
      "grid_column": null,
      "grid_gap": null,
      "grid_row": null,
      "grid_template_areas": null,
      "grid_template_columns": null,
      "grid_template_rows": null,
      "height": null,
      "justify_content": null,
      "justify_items": null,
      "left": null,
      "margin": null,
      "max_height": null,
      "max_width": null,
      "min_height": null,
      "min_width": null,
      "object_fit": null,
      "object_position": null,
      "order": null,
      "overflow": null,
      "overflow_x": null,
      "overflow_y": null,
      "padding": null,
      "right": null,
      "top": null,
      "visibility": null,
      "width": null
     }
    },
    "9fe997af05ff412b8b8b33a9ff448d5d": {
     "model_module": "@jupyter-widgets/controls",
     "model_name": "DescriptionStyleModel",
     "model_module_version": "1.5.0",
     "state": {
      "_model_module": "@jupyter-widgets/controls",
      "_model_module_version": "1.5.0",
      "_model_name": "DescriptionStyleModel",
      "_view_count": null,
      "_view_module": "@jupyter-widgets/base",
      "_view_module_version": "1.2.0",
      "_view_name": "StyleView",
      "description_width": ""
     }
    },
    "4542338c251b4a26ba5e6872b7a9e9ef": {
     "model_module": "@jupyter-widgets/controls",
     "model_name": "HTMLModel",
     "model_module_version": "1.5.0",
     "state": {
      "_dom_classes": [],
      "_model_module": "@jupyter-widgets/controls",
      "_model_module_version": "1.5.0",
      "_model_name": "HTMLModel",
      "_view_count": null,
      "_view_module": "@jupyter-widgets/controls",
      "_view_module_version": "1.5.0",
      "_view_name": "HTMLView",
      "description": "",
      "description_tooltip": null,
      "layout": "IPY_MODEL_420188916f604264b0805932d8fb153c",
      "placeholder": "​",
      "style": "IPY_MODEL_2509adfcb9b248f9a28dc1752cdeba7a",
      "value": "<table border='1' ><tr><td style='height:50px;width:50px'></td><td style='height:50px;width:50px'></td><td style='height:50px;width:50px'></td><td style='height:50px;width:50px'></td><td style='height:50px;width:50px'></td></tr><tr><td style='height:50px;width:50px'></td><td style='height:50px;width:50px'></td><td style='height:50px;width:50px'></td><td style='height:50px;width:50px'></td><td style='height:50px;width:50px'><div style='transform: rotate(0deg);font-size:30px;'>🤖</div></td></tr><tr><td style='height:50px;width:50px'></td><td style='height:50px;width:50px'></td><td style='height:50px;width:50px'></td><td style='height:50px;width:50px'></td><td style='height:50px;width:50px'></td></tr><tr><td style='height:50px;width:50px'></td><td style='height:50px;width:50px'></td><td style='height:50px;width:50px'></td><td style='height:50px;width:50px'></td><td style='height:50px;width:50px'></td></tr><tr><td style='height:50px;width:50px'></td><td style='height:50px;width:50px'></td><td style='height:50px;width:50px'></td><td style='height:50px;width:50px'></td><td style='height:50px;width:50px'></td></tr></table>"
     }
    },
    "420188916f604264b0805932d8fb153c": {
     "model_module": "@jupyter-widgets/base",
     "model_name": "LayoutModel",
     "model_module_version": "1.2.0",
     "state": {
      "_model_module": "@jupyter-widgets/base",
      "_model_module_version": "1.2.0",
      "_model_name": "LayoutModel",
      "_view_count": null,
      "_view_module": "@jupyter-widgets/base",
      "_view_module_version": "1.2.0",
      "_view_name": "LayoutView",
      "align_content": null,
      "align_items": null,
      "align_self": null,
      "border": null,
      "bottom": null,
      "display": null,
      "flex": null,
      "flex_flow": null,
      "grid_area": null,
      "grid_auto_columns": null,
      "grid_auto_flow": null,
      "grid_auto_rows": null,
      "grid_column": null,
      "grid_gap": null,
      "grid_row": null,
      "grid_template_areas": null,
      "grid_template_columns": null,
      "grid_template_rows": null,
      "height": null,
      "justify_content": null,
      "justify_items": null,
      "left": null,
      "margin": null,
      "max_height": null,
      "max_width": null,
      "min_height": null,
      "min_width": null,
      "object_fit": null,
      "object_position": null,
      "order": null,
      "overflow": null,
      "overflow_x": null,
      "overflow_y": null,
      "padding": null,
      "right": null,
      "top": null,
      "visibility": null,
      "width": null
     }
    },
    "2509adfcb9b248f9a28dc1752cdeba7a": {
     "model_module": "@jupyter-widgets/controls",
     "model_name": "DescriptionStyleModel",
     "model_module_version": "1.5.0",
     "state": {
      "_model_module": "@jupyter-widgets/controls",
      "_model_module_version": "1.5.0",
      "_model_name": "DescriptionStyleModel",
      "_view_count": null,
      "_view_module": "@jupyter-widgets/base",
      "_view_module_version": "1.2.0",
      "_view_name": "StyleView",
      "description_width": ""
     }
    },
    "cd93c93d739c40aa80c598e6950fb48b": {
     "model_module": "@jupyter-widgets/controls",
     "model_name": "HTMLModel",
     "model_module_version": "1.5.0",
     "state": {
      "_dom_classes": [],
      "_model_module": "@jupyter-widgets/controls",
      "_model_module_version": "1.5.0",
      "_model_name": "HTMLModel",
      "_view_count": null,
      "_view_module": "@jupyter-widgets/controls",
      "_view_module_version": "1.5.0",
      "_view_name": "HTMLView",
      "description": "",
      "description_tooltip": null,
      "layout": "IPY_MODEL_24004a307341488cbe0a8bfb8e2bcd2c",
      "placeholder": "​",
      "style": "IPY_MODEL_95a7e6825b3f4847a10e2196326022b4",
      "value": "<table border='1' ><tr><td style='height:50px;width:50px'></td><td style='height:50px;width:50px'></td><td style='height:50px;width:50px'></td><td style='height:50px;width:50px'></td><td style='height:50px;width:50px'></td></tr><tr><td style='height:50px;width:50px'></td><td style='height:50px;width:50px'></td><td style='height:50px;width:50px'></td><td style='height:50px;width:50px'></td><td style='height:50px;width:50px'></td></tr><tr><td style='height:50px;width:50px'></td><td style='height:50px;width:50px'></td><td style='height:50px;width:50px'></td><td style='height:50px;width:50px'></td><td style='height:50px;width:50px'></td></tr><tr><td style='height:50px;width:50px'></td><td style='height:50px;width:50px'></td><td style='height:50px;width:50px'></td><td style='height:50px;width:50px'></td><td style='height:50px;width:50px'></td></tr><tr><td style='height:50px;width:50px'></td><td style='height:50px;width:50px'></td><td style='height:50px;width:50px'></td><td style='height:50px;width:50px'></td><td style='height:50px;width:50px'><div style='transform: rotate(0deg);font-size:30px;'>🤖</div></td></tr></table>"
     }
    },
    "24004a307341488cbe0a8bfb8e2bcd2c": {
     "model_module": "@jupyter-widgets/base",
     "model_name": "LayoutModel",
     "model_module_version": "1.2.0",
     "state": {
      "_model_module": "@jupyter-widgets/base",
      "_model_module_version": "1.2.0",
      "_model_name": "LayoutModel",
      "_view_count": null,
      "_view_module": "@jupyter-widgets/base",
      "_view_module_version": "1.2.0",
      "_view_name": "LayoutView",
      "align_content": null,
      "align_items": null,
      "align_self": null,
      "border": null,
      "bottom": null,
      "display": null,
      "flex": null,
      "flex_flow": null,
      "grid_area": null,
      "grid_auto_columns": null,
      "grid_auto_flow": null,
      "grid_auto_rows": null,
      "grid_column": null,
      "grid_gap": null,
      "grid_row": null,
      "grid_template_areas": null,
      "grid_template_columns": null,
      "grid_template_rows": null,
      "height": null,
      "justify_content": null,
      "justify_items": null,
      "left": null,
      "margin": null,
      "max_height": null,
      "max_width": null,
      "min_height": null,
      "min_width": null,
      "object_fit": null,
      "object_position": null,
      "order": null,
      "overflow": null,
      "overflow_x": null,
      "overflow_y": null,
      "padding": null,
      "right": null,
      "top": null,
      "visibility": null,
      "width": null
     }
    },
    "95a7e6825b3f4847a10e2196326022b4": {
     "model_module": "@jupyter-widgets/controls",
     "model_name": "DescriptionStyleModel",
     "model_module_version": "1.5.0",
     "state": {
      "_model_module": "@jupyter-widgets/controls",
      "_model_module_version": "1.5.0",
      "_model_name": "DescriptionStyleModel",
      "_view_count": null,
      "_view_module": "@jupyter-widgets/base",
      "_view_module_version": "1.2.0",
      "_view_name": "StyleView",
      "description_width": ""
     }
    }
   }
  }
 },
 "cells": [
  {
   "cell_type": "markdown",
   "source": [
    "# __Laboratorio 1. Agentes Inteligentes__\n",
    "\n",
    "\n",
    "El siguiente laboratorio está relacionado con el proceso de solución de problemas en IA utilizando el concepto de agente. Para el desarrollo del laboratorio tenga en cuenta lo siguiente:\n",
    "\n",
    "* La actividad puede realizarse en grupos de máximo 3 personas\n",
    "* La solución del laboratorio debe enviarse en un notebook a través de Moodle. Se debe adjuntar el archivo. No se aceptan enlaces.\n",
    "* El uso del lenguaje matemático debe hacerse utilizando `LaTeX`\n",
    "* El objetivo del laboratorio es hacer énfasis en el proceso de modelamiento. Sea claro en sus respuestas\n",
    "* Si se detecta cualquier tipo de fraude, la calificación de 0.0.\n",
    "* El código implementado deben cumplir con las recomendaciones de código limpio especificadas en el [PEP8](https://pep8.org/), de lo contrario será penalizado\n",
    "_______________________________________\n"
   ],
   "metadata": {
    "id": "kjIo9np0WfJc"
   }
  },
  {
   "cell_type": "markdown",
   "source": [
    "\n",
    "\n",
    "####  __1. `(0.5 puntos)` Suponga que un agente selecciona su siguiente movimiento de manera aleatoria del conjunto de acciones posibles. Si todas las acciones tiene la misma probabilidad, ¿existe un problema en específico dónde el agente tenga un comportamiento racional? Justifique su respuesta.__\n"
   ],
   "metadata": {
    "id": "v363eRDYYoD-"
   }
  },
  {
   "cell_type": "markdown",
   "source": [
    "###Respuesta:\n",
    "\n",
    "No existe un problema dónde un automata con estas características se comporte de manera racional, ya que para que esto fuera posible debería estar en un entorno perfecto donde cada acción que pueda realizar sea la óptima en todo momento\n"
   ],
   "metadata": {
    "id": "uj0KHNmW_I3r"
   }
  },
  {
   "cell_type": "markdown",
   "source": [
    "#### __2. `(0.5 puntos)` Suponga que el comportamiento de un agente es evaluado a través de una métrica de desempeño que solo considera las primeras 𝑇 unidades de tiempo e ignora todo lo demás después de eso. Muestre que la racionalidad del agente no depende únicamente del estado del ambiente, sino del tiempo disponible. Presente 2 ejemplos para esta situación.__"
   ],
   "metadata": {
    "id": "9gt0w_bJdkHd"
   }
  },
  {
   "cell_type": "markdown",
   "source": [
    "###Respuesta:\n",
    "\n",
    "El resultado arrojado por una métrica de desempeño para medir la racionalidad de un agente siempre va a depender tanto del estado del ambiente en el que se desenvuelve el agente, como de la cantidad de tiempo considerado por la métrica. Ejemplo\n",
    "\n",
    "#### #1 Aspiradora:\n",
    "\n",
    "Considere un agente aspiradora que durante la primera media hora limpia 5 habitaciones que están sucias, pero durante la siguiente hora y media solo hace movimientos entre habitaciones y limpia una sola. Si la métrica que utilizamos solo considera la primera hora se considerará que el agente es totalmente racional ya que fue capaz de limpiar bastantes habitaciones por lo que nuestra métrica nos dirá que es racional. Sin embargo si la métrica toma en cuenta las 2 horas completas nuestra métrica dirá que el agente es menos racional.\n",
    "\n",
    "#### #2 Agente jugador de billar:\n",
    "\n",
    "Considere un agente que es capaz de jugar billar que durante los primeros 10 minutos de juego es capaz de hacer 15 puntos haciendo 3 rachas de 5 puntos consecutivos, sin embargo al pasar ese periodo de tiempo no vuelve a hacer puntos y otro agente gana el juego haciendo 50 puntos. Si nuestra métrica solo toma en cuenta los puntos hechos durante los primeros 10 minutos nuestro agente será racional, sin embargo si nuestra métrica toma en cuenta quien ganó el juego, o la totalidad de tiempo de juego nuestro agente no será racional\n",
    "\n",
    "\n"
   ],
   "metadata": {
    "id": "PsT9i1iqBCvU"
   }
  },
  {
   "cell_type": "markdown",
   "source": [
    "#### __3. `(1.0 puntos)` Para cada uno de los siguientes problemas, especifique los elementos PEAS.  No olvide mencionar todas las propiedades del ambiente.__\n",
    "\n",
    "*\tJugar baloncesto\n",
    "*\tExplorar la superficie de la luna\n",
    "*\tComprar una obra de arte en una subasta\n",
    "*\tJugar poker\n",
    "*\tChatBot para una mesa de ayuda.\n",
    "* Jugar Ajedrez\n"
   ],
   "metadata": {
    "id": "HsYuezq3XX4I"
   }
  },
  {
   "cell_type": "markdown",
   "source": [
    "#Elementos PEAS\n",
    "\n",
    "Aquí están los elementos PEAS para cada uno de los agentes:\n",
    "\n",
    "### Agente para Jugar Baloncesto\n",
    "\n",
    "- **Performance Measure (Medida de rendimiento):**\n",
    "  - Precisión en los tiros.\n",
    "  - Puntos anotados.\n",
    "  - Rebotes.\n",
    "  - Robos.\n",
    "  - Asistencias.\n",
    "  - Bloqueos.\n",
    "  - Reducción de faltas cometidas.\n",
    "  - Tasa de victorias.\n",
    "\n",
    "- **Environment (Entorno):**\n",
    "  - Cancha de baloncesto.\n",
    "  - Otros jugadores (compañeros y oponentes).\n",
    "  - Balón.\n",
    "  - Canasta (aro y tablero).\n",
    "  - Reglas del juego.\n",
    "  - Público.\n",
    "\n",
    "- **Actuators (Actuadores):**\n",
    "  - Brazos y manos (driblar, pasar, lanzar).\n",
    "  - Piernas y pies (correr, saltar).\n",
    "  - Cuerpo (posicionamiento, equilibrio).\n",
    "  - Comunicación con compañeros.\n",
    "\n",
    "- **Sensors (Sensores):**\n",
    "  - Visión (posición del balón, canasta, jugadores).\n",
    "  - Tacto (sentir el balón, contacto físico).\n",
    "  - Audición (instrucciones, silbatos).\n",
    "  - Propiocepción (equilibrio, posición corporal).\n",
    "\n",
    "### Agente para Explorar la Superficie de la Luna\n",
    "\n",
    "- **Performance Measure (Medida de rendimiento):**\n",
    "  - Área explorada.\n",
    "  - Calidad y cantidad de datos recolectados.\n",
    "  - Duración operativa del agente.\n",
    "  - Seguridad en la operación (evitar daños).\n",
    "  - Comunicación con la base terrestre.\n",
    "\n",
    "- **Environment (Entorno):**\n",
    "  - Superficie lunar (terreno, cráteres).\n",
    "  - Condiciones ambientales (gravedad, temperatura, polvo).\n",
    "  - Obstáculos naturales (rocas, pendientes).\n",
    "  - Comunicación con la Tierra.\n",
    "  - Recursos limitados (energía, tiempo).\n",
    "\n",
    "- **Actuators (Actuadores):**\n",
    "  - Sistemas de locomoción (ruedas, patas).\n",
    "  - Brazos robóticos (recoger muestras, manipular objetos).\n",
    "  - Equipos de análisis (instrumentos científicos).\n",
    "  - Sistemas de comunicación (antenas, transmisores).\n",
    "\n",
    "- **Sensors (Sensores):**\n",
    "  - Cámaras (visión, navegación).\n",
    "  - Sensores de proximidad (detección de obstáculos).\n",
    "  - Sensores ambientales (temperatura, radiación).\n",
    "  - Instrumentos científicos (análisis de muestras).\n",
    "  - GPS y otros sistemas de posicionamiento.\n",
    "\n",
    "### Agente para Comprar una Obra de Arte en una Subasta\n",
    "\n",
    "- **Performance Measure (Medida de rendimiento):**\n",
    "  - Precio de compra (adquirir a un precio óptimo).\n",
    "  - Valor de la obra (calidad, autenticidad).\n",
    "  - Participación en la subasta (estrategia de puja).\n",
    "  - Satisfacción del comprador.\n",
    "  - Costo total (incluyendo comisiones, impuestos).\n",
    "\n",
    "- **Environment (Entorno):**\n",
    "  - Sala de subastas (presencial o en línea).\n",
    "  - Otros postores.\n",
    "  - Obras de arte en subasta.\n",
    "  - Reglas de la subasta.\n",
    "  - Mercado del arte (valoraciones, tendencias).\n",
    "\n",
    "- **Actuators (Actuadores):**\n",
    "  - Sistema de pujas (manual o automatizado).\n",
    "  - Comunicación con representantes (si aplica).\n",
    "  - Gestión de presupuesto.\n",
    "  - Monitoreo de las ofertas en tiempo real.\n",
    "\n",
    "- **Sensors (Sensores):**\n",
    "  - Visión (obra de arte, señales del subastador).\n",
    "  - Audición (ofertas, comentarios).\n",
    "  - Información de mercado (valoraciones, historial de ventas).\n",
    "  - Sentimiento y comportamiento de los otros postores.\n",
    "  - Alertas de presupuesto.\n",
    "\n",
    "### Agente para Jugar Poker\n",
    "\n",
    "- **Performance Measure (Medida de rendimiento):**\n",
    "  - Ganancias acumuladas.\n",
    "  - Tasa de victorias.\n",
    "  - Manejo de riesgo.\n",
    "  - Estrategia de apuestas.\n",
    "  - Lectura de los oponentes.\n",
    "\n",
    "- **Environment (Entorno):**\n",
    "  - Mesa de poker.\n",
    "  - Jugadores oponentes.\n",
    "  - Fichas y cartas.\n",
    "  - Reglas del juego.\n",
    "  - Expresiones faciales y corporales (si aplica).\n",
    "\n",
    "- **Actuators (Actuadores):**\n",
    "  - Manos (para manejar cartas y fichas).\n",
    "  - Comunicación verbal/no verbal (bluff, lectura de oponentes).\n",
    "  - Decisiones de apuestas (subir, igualar, retirarse).\n",
    "\n",
    "- **Sensors (Sensores):**\n",
    "  - Visión (cartas, fichas, expresiones de los oponentes).\n",
    "  - Audición (conversaciones, apuestas de otros jugadores).\n",
    "  - Percepción emocional (lectura de oponentes).\n",
    "  - Monitoreo del historial de juego.\n",
    "\n",
    "### Agente ChatBot para una Mesa de Ayuda\n",
    "\n",
    "- **Performance Measure (Medida de rendimiento):**\n",
    "  - Tasa de resolución de problemas.\n",
    "  - Tiempo de respuesta.\n",
    "  - Satisfacción del usuario.\n",
    "  - Precisión de las respuestas.\n",
    "  - Eficiencia en la escalación de problemas complejos.\n",
    "\n",
    "- **Environment (Entorno):**\n",
    "  - Plataforma de chat o voz.\n",
    "  - Base de conocimientos.\n",
    "  - Usuarios con preguntas o problemas.\n",
    "  - Sistema de tickets (si aplica).\n",
    "  - Protocolo de comunicación con agentes humanos.\n",
    "\n",
    "- **Actuators (Actuadores):**\n",
    "  - Comunicación (texto o voz).\n",
    "  - Acceso y consulta de la base de datos.\n",
    "  - Escalación de casos complejos.\n",
    "  - Generación de tickets o reportes.\n",
    "\n",
    "- **Sensors (Sensores):**\n",
    "  - Procesamiento de lenguaje natural (entender preguntas).\n",
    "  - Reconocimiento de voz (si aplica).\n",
    "  - Detección de emociones (frustración, satisfacción).\n",
    "  - Monitoreo de la conversación (para aprendizaje continuo).\n",
    "\n",
    "### Agente para Jugar Ajedrez\n",
    "\n",
    "- **Performance Measure (Medida de rendimiento):**\n",
    "  - Tasa de victorias.\n",
    "  - Calidad de las jugadas (minimización de errores).\n",
    "  - Tiempo de respuesta por jugada.\n",
    "  - Estrategia y táctica empleada.\n",
    "  - Adaptabilidad a diferentes estilos de juego.\n",
    "\n",
    "- **Environment (Entorno):**\n",
    "  - Tablero de ajedrez.\n",
    "  - Piezas de ajedrez.\n",
    "  - Oponente (humano o máquina).\n",
    "  - Reglas del juego.\n",
    "  - Historial de movimientos.\n",
    "\n",
    "- **Actuators (Actuadores):**\n",
    "  - Manipulación de piezas (si es físico).\n",
    "  - Generación de movimientos (decisiones estratégicas).\n",
    "  - Comunicación de jugadas (en juegos en línea).\n",
    "\n",
    "- **Sensors (Sensores):**\n",
    "  - Visión (estado del tablero, piezas).\n",
    "  - Registro de movimientos del oponente.\n",
    "  - Monitoreo del tiempo.\n",
    "  - Análisis de patrones y posiciones.\n",
    "\n",
    "Estos elementos definen la estructura para diseñar un agente inteligente en cada uno de estos escenarios.\n"
   ],
   "metadata": {
    "id": "A2wwK4AsOBJ0"
   }
  },
  {
   "cell_type": "markdown",
   "source": [
    "# __Robot Aspiradora__\n",
    "\n",
    "Los siguientes dos puntos utilizan el siguiente código como base.\n",
    "\n",
    "* Clase `Tablero`:\n",
    "* Clase `Agente`:\n",
    "\n",
    "Modifique las clases según lo considere necesario para cumplir los requerimientos de la simulación solicitada.\n",
    "\n"
   ],
   "metadata": {
    "id": "3ig04045uvFk"
   }
  },
  {
   "cell_type": "code",
   "source": [
    "from IPython.display import display\n",
    "import ipywidgets as widgets\n",
    "import time\n",
    "import numpy as np\n",
    "import matplotlib.pyplot as plt\n",
    "plt.style.use('ggplot')"
   ],
   "metadata": {
    "id": "j3EqwcimqsfC",
    "ExecuteTime": {
     "end_time": "2024-08-18T00:30:15.658110Z",
     "start_time": "2024-08-18T00:30:15.649576Z"
    }
   },
   "outputs": [],
   "execution_count": 44
  },
  {
   "cell_type": "code",
   "metadata": {
    "id": "B5gSyC_Meubk",
    "ExecuteTime": {
     "end_time": "2024-08-18T00:30:15.703536Z",
     "start_time": "2024-08-18T00:30:15.693287Z"
    }
   },
   "source": [
    "class Tablero:\n",
    "  def __init__(self, tamano_celda=(50, 50), n_celdas=(5,5)):\n",
    "    self.out = widgets.HTML()\n",
    "    display(self.out)\n",
    "    self.tamano_celda = tamano_celda\n",
    "    self.n_celdas = n_celdas\n",
    "    self.casillas = []\n",
    "\n",
    "  def get_nceldas(self):\n",
    "    return self.n_celdas\n",
    "\n",
    "  def get_casillas(self):\n",
    "    return self.casillas\n",
    "\n",
    "  def dibujar(self, objetos):\n",
    "    tablero = \"<table border='1' >{}</table>\"\n",
    "    filas = \"\"\n",
    "    for i in range(self.n_celdas[0]):\n",
    "      s = \"\"\n",
    "      for j in range(self.n_celdas[1]):\n",
    "        contenido =\"\"\n",
    "        self.casillas.append([i, j])\n",
    "        for o in objetos:\n",
    "          if o.x == j and o.y == i:\n",
    "            contenido = \\\n",
    "            \"<div style='transform: rotate({angulo}deg);font-size:{tamano_emoticon}px;'>{emoticon}</div>\".\\\n",
    "            format(angulo = o.angulo, tamano_emoticon = o.tamano_emoticon, emoticon = o.emoticon)\n",
    "        s += \"<td style='height:{alto}px;width:{ancho}px'>{contenido}</td>\".\\\n",
    "          format(alto = self.tamano_celda[0], ancho = self.tamano_celda[1],\n",
    "                contenido = contenido)\n",
    "      filas += \"<tr>{}</tr>\".format(s)\n",
    "    tablero = tablero.format(filas)\n",
    "    self.out.value = tablero"
   ],
   "outputs": [],
   "execution_count": 45
  },
  {
   "cell_type": "code",
   "source": [
    "def definir_basura(tablero):\n",
    "  basuras = []\n",
    "  while len(basuras)<10:\n",
    "    x = np.random.randint(5)\n",
    "    y = np.random.randint(5)\n",
    "    if not any(basura.x == x and basura.y == y for basura in basuras):\n",
    "      basuras.append(Agente(x, y, 0, emoticon=\"🍂\", tamano_emoticon=30,tablero=tablero))\n",
    "  return basuras"
   ],
   "metadata": {
    "id": "Fim-qvEKhOBP",
    "ExecuteTime": {
     "end_time": "2024-08-18T00:30:15.767928Z",
     "start_time": "2024-08-18T00:30:15.761413Z"
    }
   },
   "outputs": [],
   "execution_count": 46
  },
  {
   "cell_type": "code",
   "metadata": {
    "id": "0AzhMKlVhoot",
    "colab": {
     "base_uri": "https://localhost:8080/",
     "height": 21,
     "referenced_widgets": [
      "4e33da7ebff24a4d938b7ea712fae719",
      "e91af48f49184f759864b6c7078e15d9",
      "9fe997af05ff412b8b8b33a9ff448d5d"
     ]
    },
    "outputId": "016ffbd3-3d8f-4fbf-f6cf-a6f4a0a543ae",
    "ExecuteTime": {
     "end_time": "2024-08-18T00:30:15.896743Z",
     "start_time": "2024-08-18T00:30:15.849092Z"
    }
   },
   "source": [
    "class Agente:\n",
    "  def __init__(self, x=0, y=0, angulo=0, emoticon=\"🤖\", tamano_emoticon=30,tablero=Tablero()):\n",
    "    self.x = x\n",
    "    self.y = y\n",
    "    self.angulo = angulo\n",
    "    self.emoticon = emoticon\n",
    "    self.tamano_emoticon = tamano_emoticon\n",
    "    self.energia = 100\n",
    "    self.tablero = tablero\n",
    "\n",
    "#metodos\n",
    "\n",
    "#energia\n",
    "  def dec_energy(self):\n",
    "    self.energia = self.energia - 1\n",
    "\n",
    "  def abajo(self):\n",
    "    if self.y < self.tablero.get_nceldas()[1]-1 :\n",
    "      self.y += 1\n",
    "      self.dec_energy()\n",
    "\n",
    "  def derecha(self):\n",
    "    if self.x < self.tablero.get_nceldas()[0]-1:\n",
    "      self.x += 1\n",
    "      self.dec_energy()\n",
    "\n",
    "  def arriba(self):\n",
    "    if self.y > 0 :\n",
    "      self.y -= 1\n",
    "      self.dec_energy()\n",
    "\n",
    "  def izquierda(self):\n",
    "    if self.x > 0 :\n",
    "      self.x -= 1\n",
    "      self.dec_energy()\n",
    "\n",
    "#escanear\n",
    "  def escanear(self):\n",
    "    arriba_basura = filter(lambda basura: (basura.x == self.x  and basura.y == self.y  - 1 ), basuras)\n",
    "    abajo_basura = filter(lambda basura: (basura.x == self.x  and basura.y == self.y  + 1 ), basuras)\n",
    "    derecha_basura = filter(lambda basura: (basura.x == self.x + 1  and basura.y == self.y  ), basuras)\n",
    "    izquierda_basura = filter(lambda basura: (basura.x == self.x - 1 and basura.y == self.y ), basuras)\n",
    "    basura = {\n",
    "        \"arriba\":list(arriba_basura),\n",
    "        \"abajo\":list(abajo_basura),\n",
    "        \"derecha\":list(derecha_basura),\n",
    "        \"izquierda\":list(izquierda_basura),\n",
    "        }\n",
    "    if basura[\"derecha\"]:\n",
    "      self.derecha()\n",
    "      return True\n",
    "    elif basura[\"izquierda\"]:\n",
    "      self.izquierda()\n",
    "      return True\n",
    "    elif basura[\"arriba\"]:\n",
    "      self.arriba()\n",
    "      return True\n",
    "    elif basura[\"abajo\"]:\n",
    "      self.abajo()\n",
    "      return True\n",
    "    return False\n",
    "\n",
    "#limpiar\n",
    "  def limpiar(self):\n",
    "    founded_basura = filter(lambda basura: (basura.x == self.x and basura.y == self.y ), basuras)\n",
    "    basura = list(founded_basura)\n",
    "    if basura:\n",
    "      basuras.remove(basura[0])\n",
    "      return True\n",
    "    return False\n",
    "\n",
    "#Casillas visitadas\n",
    "  def visitado(self, visitadas):\n",
    "    visitadas.append([self.x, self.y])\n",
    "    return visitadas\n",
    "\n",
    "#Casillas sin visitar\n",
    "  def no_visitado(self, visitadas):\n",
    "    casillas = self.tablero.get_casillas()\n",
    "    for casilla in visitadas:\n",
    "      if casilla in casillas:\n",
    "        casillas.remove(casilla)\n",
    "    return casillas\n",
    "\n",
    "#Ir a casilla sin visitar\n",
    "  def recorrer(self, no_visitadas):\n",
    "    rand = np.random.choice(len(no_visitadas))\n",
    "    if (self.x, self.y) != no_visitadas[rand] and self.energia > 0:\n",
    "      if self.x > no_visitadas[0][0] and self.energia > 0:\n",
    "        self.izquierda()\n",
    "      elif self.x < no_visitadas[0][0] and self.energia > 0:\n",
    "        self.derecha()\n",
    "      elif self.y > no_visitadas[0][1] and self.energia > 0:\n",
    "        self.arriba()\n",
    "      elif self.y < no_visitadas[0][1] and self.energia > 0:\n",
    "        self.abajo()"
   ],
   "outputs": [
    {
     "data": {
      "text/plain": [
       "HTML(value='')"
      ],
      "application/vnd.jupyter.widget-view+json": {
       "version_major": 2,
       "version_minor": 0,
       "model_id": "acbbbf8f2173470d8175e770672b79e0"
      }
     },
     "metadata": {},
     "output_type": "display_data"
    }
   ],
   "execution_count": 47
  },
  {
   "metadata": {
    "ExecuteTime": {
     "end_time": "2024-08-18T03:25:11.895905Z",
     "start_time": "2024-08-18T03:25:11.880390Z"
    }
   },
   "cell_type": "code",
   "source": [
    "#definir el algoritmo de recorrido de celdas cercanas de basura\n",
    "def simulacionReflejo(arr_basuras ,sleep_time = 0.25 ):\n",
    "  movimientos = [aspiradora.derecha, aspiradora.izquierda,aspiradora.arriba,aspiradora.abajo]\n",
    "  while aspiradora.energia > 0 and len(basuras) != 0:\n",
    "    aspiradora.limpiar()\n",
    "    objetos = basuras + [aspiradora]\n",
    "    escenario.dibujar(objetos)\n",
    "    time.sleep( sleep_time )\n",
    "    if aspiradora.energia > 0:\n",
    "      if not aspiradora.escanear():\n",
    "        np.random.choice(movimientos)()\n",
    "    else: break\n",
    "    escenario.dibujar(objetos)\n",
    "    time.sleep( sleep_time )"
   ],
   "outputs": [],
   "execution_count": 1
  },
  {
   "cell_type": "code",
   "source": [
    "#Ejecicion visual del programa\n",
    "escenario = Tablero()\n",
    "basuras = definir_basura(escenario)\n",
    "basura_inicial = len(basuras)\n",
    "aspiradora = Agente(np.random.randint(5),np.random.randint(5),tablero=escenario)\n",
    "simulacionReflejo(basuras,sleep_time=0.5)\n",
    "print(f\"Energia restante: {aspiradora.energia}\\nBasuras totales {basura_inicial}\\nBasura recogida {basura_inicial - len(basuras)}\")"
   ],
   "metadata": {
    "colab": {
     "base_uri": "https://localhost:8080/",
     "height": 352,
     "referenced_widgets": [
      "4542338c251b4a26ba5e6872b7a9e9ef",
      "420188916f604264b0805932d8fb153c",
      "2509adfcb9b248f9a28dc1752cdeba7a"
     ]
    },
    "id": "shqxtWuok7eX",
    "outputId": "b09dc49c-a7f4-4fd0-9913-d41a7e5f684a",
    "ExecuteTime": {
     "end_time": "2024-08-18T00:47:37.244223Z",
     "start_time": "2024-08-18T00:47:21.056864Z"
    }
   },
   "outputs": [
    {
     "data": {
      "text/plain": [
       "HTML(value='')"
      ],
      "application/vnd.jupyter.widget-view+json": {
       "version_major": 2,
       "version_minor": 0,
       "model_id": "19b4ba52ec714e729c397d1683a0ffe8"
      }
     },
     "metadata": {},
     "output_type": "display_data"
    },
    {
     "name": "stdout",
     "output_type": "stream",
     "text": [
      "Energia restante: 86\n",
      "Basuras totales 10\n",
      "Basura recogida 10\n"
     ]
    }
   ],
   "execution_count": 79
  },
  {
   "cell_type": "markdown",
   "source": [
    "#### __4. `(1.5 puntos)` Implemente una simulación para el problema del robot aspiradora presentado en clase. La simulación debe cumplir las siguientes especificaciones:__\n",
    "\n",
    "  * El agente aspiradora puede percibir las hojas en cualquiera de las 4 casillas adyacentes (N, S, W, E).\n",
    "  * El agente puede percibir los muros del tablero\n",
    "  * El agente aspiradora dispondrá de 6 acciones:  moverse a cualquiera de las 4 casillas adyacentes (N, S, W, E), aspirar o no realizar ninguna acción.\n",
    "  * El agente obtendrá un punto por cada cuadrado que se limpie.\n",
    "  * La posición inicial de la aspiradora deberá generarse de manera aleatoria en el tablero.\n",
    "  * La aspiradora solo tiene energía para realizar 100 movimientos. Las acciones de aspirar y percibir las hojas no consumen energía.\n",
    "  * El tablero debe tener un tamaño de 5 x 5.\n",
    "  * Se deben ubicar 10 hojas de manera aleatoria en el tablero.\n",
    "\n",
    "__Utilizando los parámetros mencionados:__\n",
    "\n",
    "  * Genere un comportamiento reflejo que maximice el puntaje obtenido por la aspiradora. Describa la estrategia utilizada.\n",
    "  * Realice 50 simulaciones con el comportamiento diseñado y realice un histograma con los puntajes obtenidos.\n",
    "  * ¿Es posible construir un agente racional que soluciones este problema únicamente con comportamientos reflejos?\n",
    "\n",
    "\n"
   ],
   "metadata": {
    "id": "fCryuHI0urfX"
   }
  },
  {
   "cell_type": "code",
   "source": [
    "# Promedio de la energía consumida y las hojas recogidas en cada ejecución en 50 simulaciones\n",
    "Energia_consumida = []\n",
    "basura_recogida = []\n",
    "\n",
    "#si ver tablero es True, muestra el tablero en todas las ejecuciones\n",
    "ver_tablero = True\n",
    "\n",
    "if ver_tablero:escenario = Tablero()\n",
    "\n",
    "for i in range(1,51):\n",
    "  basuras = definir_basura(escenario)\n",
    "  basura_inicial = len(basuras)\n",
    "  aspiradora = Agente(np.random.randint(5),np.random.randint(5),tablero=escenario)\n",
    "  energia_inicial = simulacionReflejo(basuras,sleep_time = 0)\n",
    "  basura_recogida.append(basura_inicial - len(basuras))\n",
    "  Energia_consumida.append(100-aspiradora.energia)\n",
    "\n",
    "print(\" ***** Datos finales ******\")\n",
    "print(f\"Promedio de basura recogida: {np.sum(basura_recogida)/ 50}\")\n",
    "print(f\"Promedio de energia consumida: {np.sum(Energia_consumida)/ 50} /100\")\n",
    "print(\"***************************\")"
   ],
   "metadata": {
    "id": "2mIFZJ0IxzM7",
    "colab": {
     "base_uri": "https://localhost:8080/",
     "height": 370,
     "referenced_widgets": [
      "cd93c93d739c40aa80c598e6950fb48b",
      "24004a307341488cbe0a8bfb8e2bcd2c",
      "95a7e6825b3f4847a10e2196326022b4"
     ]
    },
    "outputId": "f2e0afc3-9ab5-4add-a622-c6bd1e967dd2",
    "ExecuteTime": {
     "end_time": "2024-08-18T00:54:46.217124Z",
     "start_time": "2024-08-18T00:54:42.264173Z"
    }
   },
   "outputs": [
    {
     "data": {
      "text/plain": [
       "HTML(value='')"
      ],
      "application/vnd.jupyter.widget-view+json": {
       "version_major": 2,
       "version_minor": 0,
       "model_id": "f49bddc34e064ffe879fae3a15387786"
      }
     },
     "metadata": {},
     "output_type": "display_data"
    },
    {
     "name": "stdout",
     "output_type": "stream",
     "text": [
      " ***** Datos finales ******\n",
      "Promedio de basura recogida: 9.92\n",
      "Promedio de energia consumida: 42.76 /100\n",
      "***************************\n"
     ]
    }
   ],
   "execution_count": 80
  },
  {
   "cell_type": "code",
   "source": [
    "plt.hist(Energia_consumida)\n",
    "plt.title(\"Energía consumida por ejecución\")\n",
    "plt.xlabel(\"Energía consumida\")\n",
    "plt.ylabel(\"Frecuencia\")\n",
    "plt.show()"
   ],
   "metadata": {
    "colab": {
     "base_uri": "https://localhost:8080/",
     "height": 478
    },
    "id": "BGkyXCdyw130",
    "outputId": "ee99a5a0-a403-4523-9d16-a72fd44dffd9",
    "ExecuteTime": {
     "end_time": "2024-08-18T00:54:55.083601Z",
     "start_time": "2024-08-18T00:54:54.847382Z"
    }
   },
   "outputs": [
    {
     "data": {
      "text/plain": [
       "<Figure size 640x480 with 1 Axes>"
      ],
      "image/png": "[encoded data removed]"
     },
     "metadata": {},
     "output_type": "display_data"
    }
   ],
   "execution_count": 81
  },
  {
   "cell_type": "markdown",
   "source": [
    "\n",
    "\n",
    "#### __5. (1.5 puntos) IImplemente una simulación para el problema del robot aspiradora presentado en clase. La simulación debe cumplir las siguientes especificaciones:__\n",
    "\n",
    "  * El agente aspiradora puede percibir las hojas en cualquiera de las 8 casillas adyacentes (se incluyen las diagonales).\n",
    "  * El agente puede percibir los muros del tablero\n",
    "  * El agente aspiradora dispondrá de 10 acciones:  moverse a cualquiera de las 8 casillas adyacentes aspirar o no realizar ningúna acción.\n",
    "  * El agente obtendrá un punto por cada cuadrado que se límpie.\n",
    "  * La posición inicial de la aspiradora deberá generarse de manera aleatoria en el tablero.\n",
    "  * La aspiradora solo tiene energía para realizar 200 acciones. La acciones de aspirar y percipir las hojas no consumen energía.\n",
    "  * El tablero debe tener un tamaño de 10 x 10.\n",
    "  * Se deben ubicar 50 hojas de manera aleatoria en el tablero.\n",
    "\n",
    "__Utilizando los parámetros mencionados:__\n",
    "\n",
    "  * Genere un comportamiento basado en estado que maximice el puntaje obtenido por la aspiradora. Describa la estrategia utilizada.\n",
    "  * Realice 50 simulaciones con el comportamiento diseñado y realice un histograma con los puntajes obtenidos.\n",
    "  * ¿Es posible construir un agente racional que soluciones este problema mediante un comportamiento basado en estado?\n",
    "\n"
   ],
   "metadata": {
    "id": "sfNsw62P_M1t"
   }
  },
  {
   "metadata": {
    "id": "HEIubm-2jeCu",
    "ExecuteTime": {
     "end_time": "2024-08-18T00:30:15.923805Z",
     "start_time": "2024-08-18T00:30:15.913843Z"
    }
   },
   "cell_type": "code",
   "outputs": [],
   "execution_count": 48,
   "source": [
    "#definir el algoritmo de recorrido de celdas cercanas de basura\n",
    "def simulacionReflejoMemoria(arr_basuras ,sleep_time = 0.25 ):\n",
    "  visitadas = []\n",
    "  while aspiradora.energia > 0 and len(basuras) != 0:\n",
    "    aspiradora.limpiar()\n",
    "    visitadas = aspiradora.visitado(visitadas)\n",
    "    objetos = basuras + [aspiradora]\n",
    "    escenario.dibujar(objetos)\n",
    "    time.sleep( sleep_time )\n",
    "    if aspiradora.energia > 0:\n",
    "      if not aspiradora.escanear():\n",
    "        if len(basuras) > 0:\n",
    "          no_visitadas = aspiradora.no_visitado(visitadas)\n",
    "          aspiradora.recorrer(no_visitadas)\n",
    "        else: break\n",
    "    else: break\n",
    "    escenario.dibujar(objetos)\n",
    "    time.sleep( sleep_time )"
   ]
  },
  {
   "cell_type": "code",
   "metadata": {
    "id": "Th7_Ntk0fpK7"
   },
   "source": [
    "# Promedio de la energía consumida y las hojas recogidas en cada ejecución en 50 simulaciones\n",
    "Energia_consumida = []\n",
    "basura_recogida = []\n",
    "\n",
    "#si ver tablero es True, muestra el tablero en todas las ejecuciones\n",
    "ver_tablero = True\n",
    "\n",
    "if ver_tablero:escenario = Tablero(n_celdas=(10,10))\n",
    "\n",
    "for i in range(1,51):\n",
    "  basuras = definir_basura(escenario)\n",
    "  basura_inicial = len(basuras)\n",
    "  aspiradora = Agente(np.random.randint(5),np.random.randint(5),tablero=escenario)\n",
    "  energia_inicial = aspirar(basuras,sleep_time = 0)\n",
    "  basura_recogida.append(basura_inicial - len(basuras))\n",
    "  Energia_consumida.append(100-aspiradora.energia)\n",
    "\n",
    "print(\" ***** Datos finales ******\")\n",
    "print(f\"Promedio de basura recogida: {np.sum(basura_recogida)/ 50}\")\n",
    "print(f\"Promedio de energia consumida: {np.sum(Energia_consumida)/ 50} /100\")\n",
    "print(\"***************************\")"
   ],
   "execution_count": null,
   "outputs": []
  }
 ]
}
