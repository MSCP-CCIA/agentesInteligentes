{
 "cells": [
  {
   "cell_type": "code",
   "id": "initial_id",
   "metadata": {
    "collapsed": true,
    "ExecuteTime": {
     "end_time": "2024-08-18T03:42:34.597692Z",
     "start_time": "2024-08-18T03:42:30.981235Z"
    }
   },
   "source": [
    "from IPython.display import display\n",
    "import ipywidgets as widgets\n",
    "import time\n",
    "import numpy as np\n",
    "import matplotlib.pyplot as plt\n",
    "plt.style.use('ggplot')"
   ],
   "outputs": [],
   "execution_count": 4
  },
  {
   "metadata": {
    "ExecuteTime": {
     "end_time": "2024-08-18T03:42:34.610717Z",
     "start_time": "2024-08-18T03:42:34.602305Z"
    }
   },
   "cell_type": "code",
   "source": [
    "class Tablero:\n",
    "    def __init__(self, tamano_celda=(50, 50), n_celdas=(5,5)):\n",
    "        self.out = widgets.HTML()\n",
    "        display(self.out)\n",
    "        self.tamano_celda = tamano_celda\n",
    "        self.n_celdas = n_celdas\n",
    "        self.casillas = []\n",
    "\n",
    "    def get_nceldas(self):\n",
    "        return self.n_celdas\n",
    "\n",
    "    def get_casillas(self):\n",
    "        return self.casillas\n",
    "\n",
    "    def dibujar(self, objetos):\n",
    "        tablero = \"<table border='1' >{}</table>\"\n",
    "        filas = \"\"\n",
    "        for i in range(self.n_celdas[0]):\n",
    "            s = \"\"\n",
    "            for j in range(self.n_celdas[1]):\n",
    "                contenido =\"\"\n",
    "                self.casillas.append([i, j])\n",
    "                for o in objetos:\n",
    "                    if o.x == j and o.y == i:\n",
    "                        contenido = \\\n",
    "                            \"<div style='transform: rotate({angulo}deg);font-size:{tamano_emoticon}px;'>{emoticon}</div>\". \\\n",
    "                                format(angulo = o.angulo, tamano_emoticon = o.tamano_emoticon, emoticon = o.emoticon)\n",
    "                s += \"<td style='height:{alto}px;width:{ancho}px'>{contenido}</td>\". \\\n",
    "                    format(alto = self.tamano_celda[0], ancho = self.tamano_celda[1],\n",
    "                           contenido = contenido)\n",
    "            filas += \"<tr>{}</tr>\".format(s)\n",
    "        tablero = tablero.format(filas)\n",
    "        self.out.value = tablero"
   ],
   "id": "20db605ccd008db4",
   "outputs": [],
   "execution_count": 5
  },
  {
   "metadata": {
    "ExecuteTime": {
     "end_time": "2024-08-18T03:42:34.628013Z",
     "start_time": "2024-08-18T03:42:34.619838Z"
    }
   },
   "cell_type": "code",
   "source": [
    "class Agente():\n",
    "    def __init__(self, x=0, y=0, angulo=0, emoticon=\"🤖\", tamano_emoticon=30):\n",
    "        self.x = x\n",
    "        self.y = y\n",
    "        self.angulo = angulo\n",
    "        self.emoticon = emoticon\n",
    "        self.tamano_emoticon = tamano_emoticon\n",
    "        "
   ],
   "id": "a41506b053e18902",
   "outputs": [],
   "execution_count": 6
  },
  {
   "metadata": {
    "ExecuteTime": {
     "end_time": "2024-08-18T03:42:34.663448Z",
     "start_time": "2024-08-18T03:42:34.657085Z"
    }
   },
   "cell_type": "code",
   "source": [
    "class AgenteBasura(Agente):\n",
    "    def __init__(self, x=0, y=0, angulo=0, emoticon=\"🍂\", tamano_emoticon=30 ):\n",
    "        super().__init__(x, y, angulo, emoticon, tamano_emoticon)"
   ],
   "id": "f814f13edbd4119a",
   "outputs": [],
   "execution_count": 7
  },
  {
   "metadata": {
    "ExecuteTime": {
     "end_time": "2024-08-18T03:42:34.706154Z",
     "start_time": "2024-08-18T03:42:34.677053Z"
    }
   },
   "cell_type": "code",
   "source": [
    "def GenerarBasura(cantidad, tablero=Tablero()):\n",
    "    basuras = []\n",
    "    while len(basuras)<cantidad:\n",
    "        x = np.random.randint(tablero.get_nceldas()[0])\n",
    "        y = np.random.randint(tablero.get_nceldas()[0])\n",
    "        if not any(basura.x == x and basura.y == y for basura in basuras):\n",
    "            basuras.append(AgenteBasura(x, y))\n",
    "    return basuras"
   ],
   "id": "fbc858f1de5445bd",
   "outputs": [
    {
     "data": {
      "text/plain": [
       "HTML(value='')"
      ],
      "application/vnd.jupyter.widget-view+json": {
       "version_major": 2,
       "version_minor": 0,
       "model_id": "773984b1d1e34c26a6465fda2fa5b248"
      }
     },
     "metadata": {},
     "output_type": "display_data"
    }
   ],
   "execution_count": 8
  },
  {
   "metadata": {
    "ExecuteTime": {
     "end_time": "2024-08-18T03:42:34.857823Z",
     "start_time": "2024-08-18T03:42:34.834838Z"
    }
   },
   "cell_type": "code",
   "source": [
    "class AgenteAspiradoraReflejo(Agente):\n",
    "    def __init__(self, x=0, y=0, angulo=0, emoticon=\"🤖\", tamano_emoticon=30, tablero = Tablero()):\n",
    "        super().__init__(x, y, angulo, emoticon, tamano_emoticon)\n",
    "        self.tablero = tablero\n",
    "        self.energia = 100\n",
    "        \n",
    "    def dec_energy(self):\n",
    "        self.energia = self.energia - 1\n",
    "\n",
    "    def abajo(self):\n",
    "        if self.y < self.tablero.get_nceldas()[1]-1 :\n",
    "            self.y += 1\n",
    "            self.dec_energy()\n",
    "    \n",
    "    def derecha(self):\n",
    "        if self.x < self.tablero.get_nceldas()[0]-1:\n",
    "            self.x += 1\n",
    "            self.dec_energy()\n",
    "    \n",
    "    def arriba(self):\n",
    "        if self.y > 0 :\n",
    "            self.y -= 1\n",
    "            self.dec_energy()\n",
    "    \n",
    "    def izquierda(self):\n",
    "        if self.x > 0 :\n",
    "            self.x -= 1\n",
    "            self.dec_energy()\n",
    "\n",
    "    def detectar_basura(self, basuras):\n",
    "        basura_arriba = any(basura.x == self.x and basura.y == self.y - 1 for basura in basuras)\n",
    "        basura_abajo = any(basura.x == self.x and basura.y == self.y + 1 for basura in basuras)\n",
    "        basura_izquierda = any(basura.x == self.x - 1 and basura.y == self.y for basura in basuras)\n",
    "        basura_derecha = any(basura.x == self.x + 1 and basura.y == self.y for basura in basuras)\n",
    "    \n",
    "        if basura_derecha:\n",
    "            self.derecha()\n",
    "            return True\n",
    "        elif basura_izquierda:\n",
    "            self.izquierda()\n",
    "            return True\n",
    "        elif basura_arriba:\n",
    "            self.arriba()\n",
    "            return True\n",
    "        elif basura_abajo:\n",
    "            self.abajo()\n",
    "            return True\n",
    "        return False\n",
    "\n",
    "    def limpiar(self, basuras):\n",
    "        founded_basura = filter(lambda basura: (basura.x == self.x and basura.y == self.y ), basuras)\n",
    "        basura = list(founded_basura)\n",
    "        if basura:\n",
    "            basuras.remove(basura[0])\n",
    "            return True\n",
    "        return False"
   ],
   "id": "e266b4ada7549eb2",
   "outputs": [
    {
     "data": {
      "text/plain": [
       "HTML(value='')"
      ],
      "application/vnd.jupyter.widget-view+json": {
       "version_major": 2,
       "version_minor": 0,
       "model_id": "488edf87a9354a35a6d67246de8e9479"
      }
     },
     "metadata": {},
     "output_type": "display_data"
    }
   ],
   "execution_count": 9
  },
  {
   "metadata": {
    "ExecuteTime": {
     "end_time": "2024-08-18T03:44:32.520235Z",
     "start_time": "2024-08-18T03:44:32.501226Z"
    }
   },
   "cell_type": "code",
   "source": [
    "def simulacionReflejo(sleep_time=0.5):\n",
    "    escenario = Tablero()\n",
    "    basuras = GenerarBasura(cantidad=10)\n",
    "    aspiradora = AgenteAspiradoraReflejo()\n",
    "    movimientos = [aspiradora.derecha, aspiradora.izquierda, aspiradora.arriba, aspiradora.abajo]\n",
    "    while aspiradora.energia > 0 and len(basuras) != 0:\n",
    "        aspiradora.limpiar(basuras)\n",
    "        objetos = basuras + [aspiradora]\n",
    "        escenario.dibujar(objetos)\n",
    "        time.sleep(sleep_time)\n",
    "        if aspiradora.energia > 0:\n",
    "            if not aspiradora.detectar_basura(basuras):\n",
    "                np.random.choice(movimientos)()\n",
    "        else:\n",
    "            break\n",
    "        escenario.dibujar(objetos)\n",
    "        time.sleep(sleep_time)"
   ],
   "id": "4551731cff3ff755",
   "outputs": [],
   "execution_count": 12
  },
  {
   "metadata": {
    "ExecuteTime": {
     "end_time": "2024-08-18T03:46:35.549434Z",
     "start_time": "2024-08-18T03:44:34.333116Z"
    }
   },
   "cell_type": "code",
   "source": "simulacionReflejo()",
   "id": "553905fb80771830",
   "outputs": [
    {
     "data": {
      "text/plain": [
       "HTML(value='')"
      ],
      "application/vnd.jupyter.widget-view+json": {
       "version_major": 2,
       "version_minor": 0,
       "model_id": "91262bc857c14d30b7e7703842a37513"
      }
     },
     "metadata": {},
     "output_type": "display_data"
    }
   ],
   "execution_count": 13
  }
 ],
 "metadata": {
  "kernelspec": {
   "display_name": "Python 3",
   "language": "python",
   "name": "python3"
  },
  "language_info": {
   "codemirror_mode": {
    "name": "ipython",
    "version": 2
   },
   "file_extension": ".py",
   "mimetype": "text/x-python",
   "name": "python",
   "nbconvert_exporter": "python",
   "pygments_lexer": "ipython2",
   "version": "2.7.6"
  }
 },
 "nbformat": 4,
 "nbformat_minor": 5
}
