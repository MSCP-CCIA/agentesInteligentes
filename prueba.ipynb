{
 "cells": [
  {
   "cell_type": "code",
   "id": "initial_id",
   "metadata": {
    "collapsed": true,
    "ExecuteTime": {
     "end_time": "2024-08-18T22:50:29.246724Z",
     "start_time": "2024-08-18T22:50:25.665382Z"
    }
   },
   "source": [
    "from IPython.display import display\n",
    "import ipywidgets as widgets\n",
    "import time\n",
    "import numpy as np\n",
    "import matplotlib.pyplot as plt\n",
    "plt.style.use('ggplot')"
   ],
   "outputs": [],
   "execution_count": 1
  },
  {
   "metadata": {
    "ExecuteTime": {
     "end_time": "2024-08-18T22:50:29.279841Z",
     "start_time": "2024-08-18T22:50:29.269453Z"
    }
   },
   "cell_type": "code",
   "source": [
    "class Tablero:\n",
    "    def __init__(self, tamano_celda=(50, 50), n_celdas=(5,5)):\n",
    "        self.out = widgets.HTML()\n",
    "        display(self.out)\n",
    "        self.tamano_celda = tamano_celda\n",
    "        self.n_celdas = n_celdas\n",
    "        self.casillas = []\n",
    "\n",
    "    def get_nceldas(self):\n",
    "        return self.n_celdas\n",
    "\n",
    "    def get_casillas(self):\n",
    "        return self.casillas\n",
    "\n",
    "    def dibujar(self, objetos):\n",
    "        tablero = \"<table border='1' >{}</table>\"\n",
    "        filas = \"\"\n",
    "        for i in range(self.n_celdas[0]):\n",
    "            s = \"\"\n",
    "            for j in range(self.n_celdas[1]):\n",
    "                contenido =\"\"\n",
    "                self.casillas.append([i, j])\n",
    "                for o in objetos:\n",
    "                    if o.x == j and o.y == i:\n",
    "                        contenido = \\\n",
    "                            \"<div style='transform: rotate({angulo}deg);font-size:{tamano_emoticon}px;'>{emoticon}</div>\". \\\n",
    "                                format(angulo = o.angulo, tamano_emoticon = o.tamano_emoticon, emoticon = o.emoticon)\n",
    "                s += \"<td style='height:{alto}px;width:{ancho}px'>{contenido}</td>\". \\\n",
    "                    format(alto = self.tamano_celda[0], ancho = self.tamano_celda[1],\n",
    "                           contenido = contenido)\n",
    "            filas += \"<tr>{}</tr>\".format(s)\n",
    "        tablero = tablero.format(filas)\n",
    "        self.out.value = tablero"
   ],
   "id": "20db605ccd008db4",
   "outputs": [],
   "execution_count": 2
  },
  {
   "metadata": {
    "ExecuteTime": {
     "end_time": "2024-08-18T22:50:29.294625Z",
     "start_time": "2024-08-18T22:50:29.287854Z"
    }
   },
   "cell_type": "code",
   "source": [
    "class Agente():\n",
    "    def __init__(self, x=0, y=0, angulo=0, emoticon=\"🤖\", tamano_emoticon=30):\n",
    "        self.x = x\n",
    "        self.y = y\n",
    "        self.angulo = angulo\n",
    "        self.emoticon = emoticon\n",
    "        self.tamano_emoticon = tamano_emoticon\n",
    "        "
   ],
   "id": "a41506b053e18902",
   "outputs": [],
   "execution_count": 3
  },
  {
   "metadata": {
    "ExecuteTime": {
     "end_time": "2024-08-18T22:50:29.314906Z",
     "start_time": "2024-08-18T22:50:29.310519Z"
    }
   },
   "cell_type": "code",
   "source": [
    "class AgenteBasura(Agente):\n",
    "    def __init__(self, x=0, y=0, angulo=0, emoticon=\"🍂\", tamano_emoticon=30 ):\n",
    "        super().__init__(x, y, angulo, emoticon, tamano_emoticon)"
   ],
   "id": "f814f13edbd4119a",
   "outputs": [],
   "execution_count": 4
  },
  {
   "metadata": {
    "ExecuteTime": {
     "end_time": "2024-08-18T22:50:29.351616Z",
     "start_time": "2024-08-18T22:50:29.332963Z"
    }
   },
   "cell_type": "code",
   "source": [
    "def GenerarBasura(cantidad, tablero=Tablero()):\n",
    "    basuras = []\n",
    "    while len(basuras)<cantidad:\n",
    "        x = np.random.randint(tablero.get_nceldas()[0])\n",
    "        y = np.random.randint(tablero.get_nceldas()[0])\n",
    "        if not any(basura.x == x and basura.y == y for basura in basuras):\n",
    "            basuras.append(AgenteBasura(x, y))\n",
    "    return basuras"
   ],
   "id": "fbc858f1de5445bd",
   "outputs": [
    {
     "data": {
      "text/plain": [
       "HTML(value='')"
      ],
      "application/vnd.jupyter.widget-view+json": {
       "version_major": 2,
       "version_minor": 0,
       "model_id": "acf4bdecd36b4835a5666789b8720159"
      }
     },
     "metadata": {},
     "output_type": "display_data"
    }
   ],
   "execution_count": 5
  },
  {
   "metadata": {
    "ExecuteTime": {
     "end_time": "2024-08-18T22:50:30.399345Z",
     "start_time": "2024-08-18T22:50:30.371820Z"
    }
   },
   "cell_type": "code",
   "source": [
    "class AgenteAspiradoraReflejo(Agente):\n",
    "    def __init__(self, x=0, y=0, angulo=0, emoticon=\"🤖\", tamano_emoticon=30, tablero = Tablero(),puntos=0):\n",
    "        super().__init__(x, y, angulo, emoticon, tamano_emoticon)\n",
    "        self.tablero = tablero\n",
    "        self.energia = 100\n",
    "        self.puntos = puntos\n",
    "    \n",
    "    def set_puntos(self, puntos):\n",
    "        self.puntos = puntos\n",
    "        \n",
    "    def get_puntos(self):\n",
    "        return self.puntos\n",
    "    \n",
    "    def dec_energy(self):\n",
    "        self.energia = self.energia - 1\n",
    "\n",
    "    def abajo(self):\n",
    "        if self.y < self.tablero.get_nceldas()[1]-1 :\n",
    "            self.y += 1\n",
    "            self.dec_energy()\n",
    "    \n",
    "    def derecha(self):\n",
    "        if self.x < self.tablero.get_nceldas()[0]-1:\n",
    "            self.x += 1\n",
    "            self.dec_energy()\n",
    "    \n",
    "    def arriba(self):\n",
    "        if self.y > 0 :\n",
    "            self.y -= 1\n",
    "            self.dec_energy()\n",
    "    \n",
    "    def izquierda(self):\n",
    "        if self.x > 0 :\n",
    "            self.x -= 1\n",
    "            self.dec_energy()\n",
    "\n",
    "    def detectar_basura(self, basuras):\n",
    "        basura_arriba = any(basura.x == self.x and basura.y == self.y - 1 for basura in basuras)\n",
    "        basura_abajo = any(basura.x == self.x and basura.y == self.y + 1 for basura in basuras)\n",
    "        basura_izquierda = any(basura.x == self.x - 1 and basura.y == self.y for basura in basuras)\n",
    "        basura_derecha = any(basura.x == self.x + 1 and basura.y == self.y for basura in basuras)\n",
    "    \n",
    "        if basura_derecha:\n",
    "            self.derecha()\n",
    "            return True\n",
    "        elif basura_izquierda:\n",
    "            self.izquierda()\n",
    "            return True\n",
    "        elif basura_arriba:\n",
    "            self.arriba()\n",
    "            return True\n",
    "        elif basura_abajo:\n",
    "            self.abajo()\n",
    "            return True\n",
    "        return False\n",
    "\n",
    "    def limpiar(self, basuras):\n",
    "        founded_basura = filter(lambda basura: (basura.x == self.x and basura.y == self.y ), basuras)\n",
    "        basura = list(founded_basura)\n",
    "        if basura:\n",
    "            basuras.remove(basura[0])\n",
    "            self.set_puntos(self.get_puntos()+1)\n",
    "            return True\n",
    "        return False"
   ],
   "id": "e266b4ada7549eb2",
   "outputs": [
    {
     "data": {
      "text/plain": [
       "HTML(value='')"
      ],
      "application/vnd.jupyter.widget-view+json": {
       "version_major": 2,
       "version_minor": 0,
       "model_id": "a51966792e7848df8f66b5a1959e50ca"
      }
     },
     "metadata": {},
     "output_type": "display_data"
    }
   ],
   "execution_count": 6
  },
  {
   "metadata": {
    "ExecuteTime": {
     "end_time": "2024-08-18T22:50:30.517992Z",
     "start_time": "2024-08-18T22:50:30.508302Z"
    }
   },
   "cell_type": "code",
   "source": [
    "def simulacionReflejo(sleep_time=0.5):\n",
    "    basuras = GenerarBasura(cantidad=10)\n",
    "    aspiradora = AgenteAspiradoraReflejo()\n",
    "    movimientos = [aspiradora.derecha, aspiradora.izquierda, aspiradora.arriba, aspiradora.abajo]\n",
    "    while aspiradora.energia > 0 and len(basuras) != 0:\n",
    "        aspiradora.limpiar(basuras)\n",
    "        objetos = basuras + [aspiradora]\n",
    "        escenario.dibujar(objetos)\n",
    "        time.sleep(sleep_time)\n",
    "        if aspiradora.energia > 0:\n",
    "            if not aspiradora.detectar_basura(basuras):\n",
    "                np.random.choice(movimientos)()\n",
    "        else:\n",
    "            break\n",
    "        escenario.dibujar(objetos)\n",
    "        time.sleep(sleep_time)\n",
    "    return 100-aspiradora.energia,aspiradora.puntos"
   ],
   "id": "4551731cff3ff755",
   "outputs": [],
   "execution_count": 7
  },
  {
   "metadata": {
    "ExecuteTime": {
     "end_time": "2024-08-18T22:51:24.030635Z",
     "start_time": "2024-08-18T22:50:30.591014Z"
    }
   },
   "cell_type": "code",
   "source": [
    "Energia_Consumida =[]\n",
    "Puntos_Obtenidos=[]\n",
    "escenario=Tablero()\n",
    "for _ in range(50):\n",
    "    energia,puntos=simulacionReflejo(0.01)\n",
    "    Energia_Consumida.append(energia)\n",
    "    Puntos_Obtenidos.append(puntos)"
   ],
   "id": "553905fb80771830",
   "outputs": [
    {
     "data": {
      "text/plain": [
       "HTML(value='')"
      ],
      "application/vnd.jupyter.widget-view+json": {
       "version_major": 2,
       "version_minor": 0,
       "model_id": "2ebb73922ceb45bc9bad432bbb1c233a"
      }
     },
     "metadata": {},
     "output_type": "display_data"
    }
   ],
   "execution_count": 8
  },
  {
   "metadata": {
    "ExecuteTime": {
     "end_time": "2024-08-18T22:51:24.450Z",
     "start_time": "2024-08-18T22:51:24.105554Z"
    }
   },
   "cell_type": "code",
   "source": [
    "plt.hist(Puntos_Obtenidos)\n",
    "plt.title(\"Puntos Obtenidos por ejecución\")\n",
    "plt.xlabel(\"Puntos Obtenidos\")\n",
    "plt.ylabel(\"Frecuencia\")\n",
    "plt.show()"
   ],
   "id": "b9a6bb0581e2abca",
   "outputs": [
    {
     "data": {
      "text/plain": [
       "<Figure size 640x480 with 1 Axes>"
      ],
      "image/png": "[encoded data removed]"
     },
     "metadata": {},
     "output_type": "display_data"
    }
   ],
   "execution_count": 9
  },
  {
   "metadata": {
    "ExecuteTime": {
     "end_time": "2024-08-18T22:51:24.626033Z",
     "start_time": "2024-08-18T22:51:24.470298Z"
    }
   },
   "cell_type": "code",
   "source": [
    "plt.hist(Energia_Consumida)\n",
    "plt.title(\"Energía consumida por ejecución\")\n",
    "plt.xlabel(\"Energía consumida\")\n",
    "plt.ylabel(\"Frecuencia\")\n",
    "plt.show()"
   ],
   "id": "4e6b13853d2a89b0",
   "outputs": [
    {
     "data": {
      "text/plain": [
       "<Figure size 640x480 with 1 Axes>"
      ],
      "image/png": "[encoded data removed]"
     },
     "metadata": {},
     "output_type": "display_data"
    }
   ],
   "execution_count": 10
  },
  {
   "metadata": {
    "ExecuteTime": {
     "end_time": "2024-08-18T22:51:24.687005Z",
     "start_time": "2024-08-18T22:51:24.650101Z"
    }
   },
   "cell_type": "code",
   "source": [
    "class AgenteAspiradoraReflejoMemoria(Agente):\n",
    "    def __init__(self, x=0, y=0, angulo=0, emoticon=\"🤖\", tamano_emoticon=30, tablero = Tablero(n_celdas=(10,10)), celdas_visitadas=None,puntos=0):\n",
    "        super().__init__(x, y, angulo, emoticon, tamano_emoticon)\n",
    "        if celdas_visitadas is None:\n",
    "            celdas_visitadas = []\n",
    "        self.tablero = tablero\n",
    "        self.energia = 200\n",
    "        self.celdas_visitadas = celdas_visitadas\n",
    "        self.puntos = puntos\n",
    "\n",
    "    def set_puntos(self, puntos):\n",
    "        self.puntos = puntos\n",
    "\n",
    "    def get_puntos(self):\n",
    "        return self.puntos\n",
    "\n",
    "    def dec_energy(self):\n",
    "        self.energia = self.energia - 1\n",
    "        \n",
    "    def IsVisited(self,celda):\n",
    "        if celda in self.celdas_visitadas:\n",
    "            return True\n",
    "        else: return False\n",
    "    def IdentificarBorde(self):\n",
    "        if self.x==0: \n",
    "            return 1\n",
    "        elif self.x == self.tablero.get_nceldas()[0]-1:\n",
    "            return 2\n",
    "        elif self.y == self.tablero.get_nceldas()[1]-1:\n",
    "            return 3\n",
    "        elif self.y == 0:\n",
    "            return 4\n",
    "        else: return 0\n",
    "    def Encerrado(self):\n",
    "        derecha=(self.x+1,self.y) in self.celdas_visitadas\n",
    "        izquierda=(self.x-1,self.y) in self.celdas_visitadas\n",
    "        arriba=(self.x,self.y-1) in self.celdas_visitadas\n",
    "        abajo=(self.x,self.y+1) in self.celdas_visitadas\n",
    "        arriba_izquierda=(self.x-1,self.y-1) in self.celdas_visitadas\n",
    "        arriba_derecha=(self.x+1,self.y-1) in self.celdas_visitadas\n",
    "        abajo_derecha=(self.x+1,self.y+1) in self.celdas_visitadas\n",
    "        abajo_izquierda=(self.x-1,self.y+1) in self.celdas_visitadas\n",
    "        if (self.x,self.y)==(0,0):\n",
    "            return abajo and derecha and abajo_derecha\n",
    "        elif (self.x,self.y)==(self.tablero.get_nceldas()[0]-1,0):\n",
    "            return abajo and izquierda and abajo_izquierda\n",
    "        elif (self.x,self.y)==(self.tablero.get_nceldas()[0]-1,self.tablero.get_nceldas()[1]-1):\n",
    "            return arriba and izquierda and arriba_izquierda\n",
    "        elif (self.x,self.y)==(0,self.tablero.get_nceldas()[1]-1):\n",
    "            return arriba and derecha and arriba_derecha\n",
    "        else:\n",
    "            match self.IdentificarBorde():\n",
    "                case 0:\n",
    "                    return derecha and izquierda and arriba and abajo and arriba_izquierda and abajo_derecha and arriba_derecha and abajo_izquierda\n",
    "                case 1:\n",
    "                    return derecha and arriba and abajo_derecha and arriba and abajo \n",
    "                case 2:\n",
    "                    return izquierda and arriba and abajo and arriba_izquierda and abajo_izquierda\n",
    "                case 3: \n",
    "                    return izquierda and arriba and derecha and arriba_izquierda and arriba_derecha\n",
    "                case 4:\n",
    "                    return izquierda and abajo and derecha and abajo_derecha and abajo_izquierda\n",
    "                    \n",
    "    def abajo(self):\n",
    "        if self.y < self.tablero.get_nceldas()[1]-1:\n",
    "            if not self.IsVisited((self.x,self.y+1)) or self.Encerrado():\n",
    "                self.y += 1\n",
    "                self.dec_energy()\n",
    "\n",
    "    def derecha(self):\n",
    "        if self.x < self.tablero.get_nceldas()[0]-1:\n",
    "            if not self.IsVisited((self.x+1,self.y)) or self.Encerrado():\n",
    "                self.x += 1\n",
    "                self.dec_energy()\n",
    "\n",
    "    def arriba(self):\n",
    "        if self.y > 0 :\n",
    "            if not self.IsVisited((self.x,self.y-1)) or self.Encerrado():\n",
    "                self.y -= 1\n",
    "                self.dec_energy()\n",
    "\n",
    "    def izquierda(self):\n",
    "        if self.x > 0 :\n",
    "            if not self.IsVisited((self.x-1,self.y)) or self.Encerrado():\n",
    "                self.x -= 1\n",
    "                self.dec_energy()\n",
    "                \n",
    "    def abajo_der(self):\n",
    "        if self.y < self.tablero.get_nceldas()[1]-1 and self.x < self.tablero.get_nceldas()[0]-1:\n",
    "            if not self.IsVisited((self.x+1,self.y+1)) or self.Encerrado():\n",
    "                self.y += 1\n",
    "                self.x += 1\n",
    "                self.dec_energy()\n",
    "\n",
    "    def arriba_der(self):\n",
    "        if self.x < self.tablero.get_nceldas()[0]-1 and self.y > 0:\n",
    "            if not self.IsVisited((self.x+1,self.y-1)) or self.Encerrado():\n",
    "                self.x += 1\n",
    "                self.y -= 1\n",
    "                self.dec_energy()\n",
    "\n",
    "    def arriba_izq(self):\n",
    "        if self.y > 0 and self.x > 0 :\n",
    "            if not self.IsVisited((self.x-1,self.y-1)) or self.Encerrado():\n",
    "                self.x -= 1\n",
    "                self.y -= 1\n",
    "                self.dec_energy()\n",
    "                \n",
    "\n",
    "    def abajo_izq(self):\n",
    "        if self.x > 0 and self.y < self.tablero.get_nceldas()[1]-1 :\n",
    "            if not self.IsVisited((self.x-1,self.y+1)) or self.Encerrado():\n",
    "                self.x -= 1\n",
    "                self.y += 1\n",
    "                self.dec_energy()\n",
    "    \n",
    "\n",
    "    def detectar_basura(self, basuras):\n",
    "        basura_arriba = any(basura.x == self.x and basura.y == self.y - 1 for basura in basuras)\n",
    "        basura_abajo = any(basura.x == self.x and basura.y == self.y + 1 for basura in basuras)\n",
    "        basura_izquierda = any(basura.x == self.x - 1 and basura.y == self.y for basura in basuras)\n",
    "        basura_derecha = any(basura.x == self.x + 1 and basura.y == self.y for basura in basuras)\n",
    "        basura_arriba_der = any(basura.x == self.x + 1 and basura.y == self.y - 1 for basura in basuras)\n",
    "        basura_abajo_der = any(basura.x == self.x + 1 and basura.y == self.y + 1 for basura in basuras)\n",
    "        basura_arriba_izq = any(basura.x == self.x - 1 and basura.y == self.y - 1 for basura in basuras)\n",
    "        basura_abajo_izq = any(basura.x == self.x - 1 and basura.y == self.y + 1 for basura in basuras)\n",
    "        \n",
    "        if basura_derecha:\n",
    "            self.derecha()\n",
    "            return True\n",
    "        elif basura_izquierda:\n",
    "            self.izquierda()\n",
    "            return True\n",
    "        elif basura_arriba:\n",
    "            self.arriba()\n",
    "            return True\n",
    "        elif basura_abajo:\n",
    "            self.abajo()\n",
    "            return True\n",
    "        if basura_arriba_der:\n",
    "            self.arriba_der()\n",
    "            return True\n",
    "        elif basura_abajo_der:\n",
    "            self.abajo_der()\n",
    "            return True\n",
    "        elif basura_arriba_izq:\n",
    "            self.arriba_izq()\n",
    "            return True\n",
    "        elif basura_abajo_izq:\n",
    "            self.abajo_izq()\n",
    "            return True\n",
    "        return False\n",
    "\n",
    "    def limpiar(self, basuras):\n",
    "        founded_basura = filter(lambda basura: (basura.x == self.x and basura.y == self.y ), basuras)\n",
    "        basura = list(founded_basura)\n",
    "        if basura:\n",
    "            basuras.remove(basura[0])\n",
    "            self.set_puntos(self.get_puntos()+1)\n",
    "            self.celdas_visitadas.append((self.x,self.y))\n",
    "            return True\n",
    "        return False"
   ],
   "id": "b7762d5cd1cf1e62",
   "outputs": [
    {
     "data": {
      "text/plain": [
       "HTML(value='')"
      ],
      "application/vnd.jupyter.widget-view+json": {
       "version_major": 2,
       "version_minor": 0,
       "model_id": "e8f94ae1e1254938b0a67af8490ec971"
      }
     },
     "metadata": {},
     "output_type": "display_data"
    }
   ],
   "execution_count": 11
  },
  {
   "metadata": {
    "ExecuteTime": {
     "end_time": "2024-08-18T22:51:24.787313Z",
     "start_time": "2024-08-18T22:51:24.779836Z"
    }
   },
   "cell_type": "code",
   "source": [
    "def simulacionReflejoMemoria(sleep_time=0.01):\n",
    "    basuras = GenerarBasura(cantidad=50,tablero=Tablero(n_celdas=(10,10)))\n",
    "    aspiradora = AgenteAspiradoraReflejoMemoria()\n",
    "    movimientos = [aspiradora.derecha, aspiradora.izquierda, aspiradora.arriba, \n",
    "                   aspiradora.abajo,aspiradora.arriba_der,aspiradora.arriba_izq,\n",
    "                   aspiradora.abajo_der,aspiradora.abajo_izq]\n",
    "    while aspiradora.energia > 0 and len(basuras) != 0:\n",
    "        objetos = basuras + [aspiradora]\n",
    "        escenario.dibujar(objetos)\n",
    "        time.sleep(sleep_time)\n",
    "        if aspiradora.energia > 0:\n",
    "            if not aspiradora.detectar_basura(basuras):\n",
    "                np.random.choice(movimientos)()\n",
    "            else:\n",
    "                aspiradora.limpiar(basuras)\n",
    "        else:\n",
    "            break\n",
    "        escenario.dibujar(objetos)\n",
    "        time.sleep(sleep_time)\n",
    "    return 200-aspiradora.energia,aspiradora.puntos"
   ],
   "id": "b219cf28efdc26e7",
   "outputs": [],
   "execution_count": 12
  },
  {
   "metadata": {
    "ExecuteTime": {
     "end_time": "2024-08-18T22:53:02.667011Z",
     "start_time": "2024-08-18T22:51:24.807410Z"
    }
   },
   "cell_type": "code",
   "source": [
    "Energia_Consumida =[]\n",
    "Puntos_Obtenidos=[]\n",
    "escenario=Tablero(n_celdas=(10,10))\n",
    "for _ in range(50):\n",
    "    energia,puntos=simulacionReflejoMemoria(sleep_time=0.001)\n",
    "    Energia_Consumida.append(energia)\n",
    "    Puntos_Obtenidos.append(puntos)"
   ],
   "id": "ffc17ef4c311be79",
   "outputs": [
    {
     "data": {
      "text/plain": [
       "HTML(value='')"
      ],
      "application/vnd.jupyter.widget-view+json": {
       "version_major": 2,
       "version_minor": 0,
       "model_id": "5abc5401a83a453fbb93a4de59f886b0"
      }
     },
     "metadata": {},
     "output_type": "display_data"
    },
    {
     "data": {
      "text/plain": [
       "HTML(value='')"
      ],
      "application/vnd.jupyter.widget-view+json": {
       "version_major": 2,
       "version_minor": 0,
       "model_id": "8b307820e21d4ae1893584640cf775a9"
      }
     },
     "metadata": {},
     "output_type": "display_data"
    },
    {
     "data": {
      "text/plain": [
       "HTML(value='')"
      ],
      "application/vnd.jupyter.widget-view+json": {
       "version_major": 2,
       "version_minor": 0,
       "model_id": "2035741d78a14de3a7e6eaccc228b8ed"
      }
     },
     "metadata": {},
     "output_type": "display_data"
    },
    {
     "data": {
      "text/plain": [
       "HTML(value='')"
      ],
      "application/vnd.jupyter.widget-view+json": {
       "version_major": 2,
       "version_minor": 0,
       "model_id": "21d586dfe8494df599fdbf2be42afab7"
      }
     },
     "metadata": {},
     "output_type": "display_data"
    },
    {
     "data": {
      "text/plain": [
       "HTML(value='')"
      ],
      "application/vnd.jupyter.widget-view+json": {
       "version_major": 2,
       "version_minor": 0,
       "model_id": "97519114f9094af89b4e807a18c4d4d0"
      }
     },
     "metadata": {},
     "output_type": "display_data"
    },
    {
     "data": {
      "text/plain": [
       "HTML(value='')"
      ],
      "application/vnd.jupyter.widget-view+json": {
       "version_major": 2,
       "version_minor": 0,
       "model_id": "43bc141e738e4084aa96a4afabc6cc1a"
      }
     },
     "metadata": {},
     "output_type": "display_data"
    },
    {
     "data": {
      "text/plain": [
       "HTML(value='')"
      ],
      "application/vnd.jupyter.widget-view+json": {
       "version_major": 2,
       "version_minor": 0,
       "model_id": "29669640c27a42baa1e76401981f0291"
      }
     },
     "metadata": {},
     "output_type": "display_data"
    },
    {
     "data": {
      "text/plain": [
       "HTML(value='')"
      ],
      "application/vnd.jupyter.widget-view+json": {
       "version_major": 2,
       "version_minor": 0,
       "model_id": "9bdbddef1748453cb7437b16d97e8113"
      }
     },
     "metadata": {},
     "output_type": "display_data"
    },
    {
     "data": {
      "text/plain": [
       "HTML(value='')"
      ],
      "application/vnd.jupyter.widget-view+json": {
       "version_major": 2,
       "version_minor": 0,
       "model_id": "ba8db24b9a90435dbc835d65721fe0a4"
      }
     },
     "metadata": {},
     "output_type": "display_data"
    },
    {
     "data": {
      "text/plain": [
       "HTML(value='')"
      ],
      "application/vnd.jupyter.widget-view+json": {
       "version_major": 2,
       "version_minor": 0,
       "model_id": "511d8d7c31544043a644e3f17a26086a"
      }
     },
     "metadata": {},
     "output_type": "display_data"
    },
    {
     "data": {
      "text/plain": [
       "HTML(value='')"
      ],
      "application/vnd.jupyter.widget-view+json": {
       "version_major": 2,
       "version_minor": 0,
       "model_id": "b04ac58beffa4cd0ac40a35f7c198dff"
      }
     },
     "metadata": {},
     "output_type": "display_data"
    },
    {
     "data": {
      "text/plain": [
       "HTML(value='')"
      ],
      "application/vnd.jupyter.widget-view+json": {
       "version_major": 2,
       "version_minor": 0,
       "model_id": "8385506d609e42bd99dd5cf4a4dbc5ea"
      }
     },
     "metadata": {},
     "output_type": "display_data"
    },
    {
     "data": {
      "text/plain": [
       "HTML(value='')"
      ],
      "application/vnd.jupyter.widget-view+json": {
       "version_major": 2,
       "version_minor": 0,
       "model_id": "1c6de206f81d402a8066f6a744df671c"
      }
     },
     "metadata": {},
     "output_type": "display_data"
    },
    {
     "data": {
      "text/plain": [
       "HTML(value='')"
      ],
      "application/vnd.jupyter.widget-view+json": {
       "version_major": 2,
       "version_minor": 0,
       "model_id": "65eb3c07362f4baeba2965b0c841e1fc"
      }
     },
     "metadata": {},
     "output_type": "display_data"
    },
    {
     "data": {
      "text/plain": [
       "HTML(value='')"
      ],
      "application/vnd.jupyter.widget-view+json": {
       "version_major": 2,
       "version_minor": 0,
       "model_id": "dc5f221aa94247c883ba531ed48fc7de"
      }
     },
     "metadata": {},
     "output_type": "display_data"
    },
    {
     "data": {
      "text/plain": [
       "HTML(value='')"
      ],
      "application/vnd.jupyter.widget-view+json": {
       "version_major": 2,
       "version_minor": 0,
       "model_id": "7f4e56d427104e61b564caa2bf1921fd"
      }
     },
     "metadata": {},
     "output_type": "display_data"
    },
    {
     "data": {
      "text/plain": [
       "HTML(value='')"
      ],
      "application/vnd.jupyter.widget-view+json": {
       "version_major": 2,
       "version_minor": 0,
       "model_id": "d78276fcaec4419292273aac46b584ed"
      }
     },
     "metadata": {},
     "output_type": "display_data"
    },
    {
     "data": {
      "text/plain": [
       "HTML(value='')"
      ],
      "application/vnd.jupyter.widget-view+json": {
       "version_major": 2,
       "version_minor": 0,
       "model_id": "bafaaf6cca82438a94bf081092290c36"
      }
     },
     "metadata": {},
     "output_type": "display_data"
    },
    {
     "data": {
      "text/plain": [
       "HTML(value='')"
      ],
      "application/vnd.jupyter.widget-view+json": {
       "version_major": 2,
       "version_minor": 0,
       "model_id": "dcfd88c2482b40cdb0cc4b41de598b6e"
      }
     },
     "metadata": {},
     "output_type": "display_data"
    },
    {
     "data": {
      "text/plain": [
       "HTML(value='')"
      ],
      "application/vnd.jupyter.widget-view+json": {
       "version_major": 2,
       "version_minor": 0,
       "model_id": "961c795a1907445389ff121db6019fd8"
      }
     },
     "metadata": {},
     "output_type": "display_data"
    },
    {
     "data": {
      "text/plain": [
       "HTML(value='')"
      ],
      "application/vnd.jupyter.widget-view+json": {
       "version_major": 2,
       "version_minor": 0,
       "model_id": "20f681a25fa24583bf40377b8ed2352c"
      }
     },
     "metadata": {},
     "output_type": "display_data"
    },
    {
     "data": {
      "text/plain": [
       "HTML(value='')"
      ],
      "application/vnd.jupyter.widget-view+json": {
       "version_major": 2,
       "version_minor": 0,
       "model_id": "4a2d69fea8ff4f579edad1431b3fd83f"
      }
     },
     "metadata": {},
     "output_type": "display_data"
    },
    {
     "data": {
      "text/plain": [
       "HTML(value='')"
      ],
      "application/vnd.jupyter.widget-view+json": {
       "version_major": 2,
       "version_minor": 0,
       "model_id": "ee38762c10344fd49f5eccbc4c39229a"
      }
     },
     "metadata": {},
     "output_type": "display_data"
    },
    {
     "data": {
      "text/plain": [
       "HTML(value='')"
      ],
      "application/vnd.jupyter.widget-view+json": {
       "version_major": 2,
       "version_minor": 0,
       "model_id": "bc4f71bca0c54bb0aa3e85398b58739f"
      }
     },
     "metadata": {},
     "output_type": "display_data"
    },
    {
     "data": {
      "text/plain": [
       "HTML(value='')"
      ],
      "application/vnd.jupyter.widget-view+json": {
       "version_major": 2,
       "version_minor": 0,
       "model_id": "2e0d538db669473f8a42ebd25cc30997"
      }
     },
     "metadata": {},
     "output_type": "display_data"
    },
    {
     "data": {
      "text/plain": [
       "HTML(value='')"
      ],
      "application/vnd.jupyter.widget-view+json": {
       "version_major": 2,
       "version_minor": 0,
       "model_id": "36167cd0da53482e837f8fb28943dd7e"
      }
     },
     "metadata": {},
     "output_type": "display_data"
    },
    {
     "data": {
      "text/plain": [
       "HTML(value='')"
      ],
      "application/vnd.jupyter.widget-view+json": {
       "version_major": 2,
       "version_minor": 0,
       "model_id": "698a2d07351d4a58afac3b7c90eb55f6"
      }
     },
     "metadata": {},
     "output_type": "display_data"
    },
    {
     "data": {
      "text/plain": [
       "HTML(value='')"
      ],
      "application/vnd.jupyter.widget-view+json": {
       "version_major": 2,
       "version_minor": 0,
       "model_id": "4737d3ab36e64e89b3d39f1ad6b3c338"
      }
     },
     "metadata": {},
     "output_type": "display_data"
    },
    {
     "data": {
      "text/plain": [
       "HTML(value='')"
      ],
      "application/vnd.jupyter.widget-view+json": {
       "version_major": 2,
       "version_minor": 0,
       "model_id": "a95487fb366a46a1adff75aa4e3c301e"
      }
     },
     "metadata": {},
     "output_type": "display_data"
    },
    {
     "data": {
      "text/plain": [
       "HTML(value='')"
      ],
      "application/vnd.jupyter.widget-view+json": {
       "version_major": 2,
       "version_minor": 0,
       "model_id": "fb9f3e1d4e304aceaf2bbfb43360d0f4"
      }
     },
     "metadata": {},
     "output_type": "display_data"
    },
    {
     "data": {
      "text/plain": [
       "HTML(value='')"
      ],
      "application/vnd.jupyter.widget-view+json": {
       "version_major": 2,
       "version_minor": 0,
       "model_id": "4df14315fc5b400f839d563c9af37a93"
      }
     },
     "metadata": {},
     "output_type": "display_data"
    },
    {
     "data": {
      "text/plain": [
       "HTML(value='')"
      ],
      "application/vnd.jupyter.widget-view+json": {
       "version_major": 2,
       "version_minor": 0,
       "model_id": "2aabfcb2177649618f4e6368e0e1fb36"
      }
     },
     "metadata": {},
     "output_type": "display_data"
    },
    {
     "data": {
      "text/plain": [
       "HTML(value='')"
      ],
      "application/vnd.jupyter.widget-view+json": {
       "version_major": 2,
       "version_minor": 0,
       "model_id": "263e3e1eb7914879bda12f842d3615d0"
      }
     },
     "metadata": {},
     "output_type": "display_data"
    },
    {
     "data": {
      "text/plain": [
       "HTML(value='')"
      ],
      "application/vnd.jupyter.widget-view+json": {
       "version_major": 2,
       "version_minor": 0,
       "model_id": "a04de88f87ac499bb2e9b215da0ad357"
      }
     },
     "metadata": {},
     "output_type": "display_data"
    },
    {
     "data": {
      "text/plain": [
       "HTML(value='')"
      ],
      "application/vnd.jupyter.widget-view+json": {
       "version_major": 2,
       "version_minor": 0,
       "model_id": "90bdb7367c584d418e922a6f9759bb38"
      }
     },
     "metadata": {},
     "output_type": "display_data"
    },
    {
     "data": {
      "text/plain": [
       "HTML(value='')"
      ],
      "application/vnd.jupyter.widget-view+json": {
       "version_major": 2,
       "version_minor": 0,
       "model_id": "6432e177d6e546c0a94899b4e847a3d3"
      }
     },
     "metadata": {},
     "output_type": "display_data"
    },
    {
     "data": {
      "text/plain": [
       "HTML(value='')"
      ],
      "application/vnd.jupyter.widget-view+json": {
       "version_major": 2,
       "version_minor": 0,
       "model_id": "b811fd52a3a5401fb384db1cebd8d76e"
      }
     },
     "metadata": {},
     "output_type": "display_data"
    },
    {
     "data": {
      "text/plain": [
       "HTML(value='')"
      ],
      "application/vnd.jupyter.widget-view+json": {
       "version_major": 2,
       "version_minor": 0,
       "model_id": "a08ce4ff17d24c3781727ebf075e9ddd"
      }
     },
     "metadata": {},
     "output_type": "display_data"
    },
    {
     "data": {
      "text/plain": [
       "HTML(value='')"
      ],
      "application/vnd.jupyter.widget-view+json": {
       "version_major": 2,
       "version_minor": 0,
       "model_id": "b18caa6fcd2c441880fc751cd7c0f765"
      }
     },
     "metadata": {},
     "output_type": "display_data"
    },
    {
     "data": {
      "text/plain": [
       "HTML(value='')"
      ],
      "application/vnd.jupyter.widget-view+json": {
       "version_major": 2,
       "version_minor": 0,
       "model_id": "688c64c31fa84506b26c9d658cc57d60"
      }
     },
     "metadata": {},
     "output_type": "display_data"
    },
    {
     "data": {
      "text/plain": [
       "HTML(value='')"
      ],
      "application/vnd.jupyter.widget-view+json": {
       "version_major": 2,
       "version_minor": 0,
       "model_id": "f1acf997747e42ba8bd5d337d574a034"
      }
     },
     "metadata": {},
     "output_type": "display_data"
    },
    {
     "data": {
      "text/plain": [
       "HTML(value='')"
      ],
      "application/vnd.jupyter.widget-view+json": {
       "version_major": 2,
       "version_minor": 0,
       "model_id": "4ec935848c6043ad91496e7126026d6e"
      }
     },
     "metadata": {},
     "output_type": "display_data"
    },
    {
     "data": {
      "text/plain": [
       "HTML(value='')"
      ],
      "application/vnd.jupyter.widget-view+json": {
       "version_major": 2,
       "version_minor": 0,
       "model_id": "6c8c2257a58f44b5adfe7100b5eb8bdc"
      }
     },
     "metadata": {},
     "output_type": "display_data"
    },
    {
     "data": {
      "text/plain": [
       "HTML(value='')"
      ],
      "application/vnd.jupyter.widget-view+json": {
       "version_major": 2,
       "version_minor": 0,
       "model_id": "195de52035c441379daa52f2daf817ae"
      }
     },
     "metadata": {},
     "output_type": "display_data"
    },
    {
     "data": {
      "text/plain": [
       "HTML(value='')"
      ],
      "application/vnd.jupyter.widget-view+json": {
       "version_major": 2,
       "version_minor": 0,
       "model_id": "080489cde393400e87daf8b2fe1739b0"
      }
     },
     "metadata": {},
     "output_type": "display_data"
    },
    {
     "data": {
      "text/plain": [
       "HTML(value='')"
      ],
      "application/vnd.jupyter.widget-view+json": {
       "version_major": 2,
       "version_minor": 0,
       "model_id": "070c0a61293042799ccde176b6567d97"
      }
     },
     "metadata": {},
     "output_type": "display_data"
    },
    {
     "data": {
      "text/plain": [
       "HTML(value='')"
      ],
      "application/vnd.jupyter.widget-view+json": {
       "version_major": 2,
       "version_minor": 0,
       "model_id": "73e48b9394e546d692ebc774fc9528cf"
      }
     },
     "metadata": {},
     "output_type": "display_data"
    },
    {
     "data": {
      "text/plain": [
       "HTML(value='')"
      ],
      "application/vnd.jupyter.widget-view+json": {
       "version_major": 2,
       "version_minor": 0,
       "model_id": "342e3f2df91546deb5857257c6eaeb0e"
      }
     },
     "metadata": {},
     "output_type": "display_data"
    },
    {
     "data": {
      "text/plain": [
       "HTML(value='')"
      ],
      "application/vnd.jupyter.widget-view+json": {
       "version_major": 2,
       "version_minor": 0,
       "model_id": "d00904b98aed4c8db0e5fb42980752e7"
      }
     },
     "metadata": {},
     "output_type": "display_data"
    },
    {
     "data": {
      "text/plain": [
       "HTML(value='')"
      ],
      "application/vnd.jupyter.widget-view+json": {
       "version_major": 2,
       "version_minor": 0,
       "model_id": "6d3b117f5c144acfb433c2951699d4ae"
      }
     },
     "metadata": {},
     "output_type": "display_data"
    },
    {
     "data": {
      "text/plain": [
       "HTML(value='')"
      ],
      "application/vnd.jupyter.widget-view+json": {
       "version_major": 2,
       "version_minor": 0,
       "model_id": "a7af33c11b6147d584a1e0401adfa134"
      }
     },
     "metadata": {},
     "output_type": "display_data"
    }
   ],
   "execution_count": 13
  },
  {
   "metadata": {
    "ExecuteTime": {
     "end_time": "2024-08-18T22:53:02.837085Z",
     "start_time": "2024-08-18T22:53:02.684585Z"
    }
   },
   "cell_type": "code",
   "source": [
    "plt.hist(Puntos_Obtenidos)\n",
    "plt.title(\"Puntos Obtenidos por ejecución\")\n",
    "plt.xlabel(\"Puntos Obtenidos\")\n",
    "plt.ylabel(\"Frecuencia\")\n",
    "plt.show()"
   ],
   "id": "7cbb7a42de8ce5a3",
   "outputs": [
    {
     "data": {
      "text/plain": [
       "<Figure size 640x480 with 1 Axes>"
      ],
      "image/png": "[encoded data removed]"
     },
     "metadata": {},
     "output_type": "display_data"
    }
   ],
   "execution_count": 14
  },
  {
   "metadata": {
    "ExecuteTime": {
     "end_time": "2024-08-18T22:53:03.030895Z",
     "start_time": "2024-08-18T22:53:02.901303Z"
    }
   },
   "cell_type": "code",
   "source": [
    "plt.show()\n",
    "plt.hist(Energia_Consumida)\n",
    "plt.title(\"Energía consumida por ejecución\")\n",
    "plt.xlabel(\"Energía consumida\")\n",
    "plt.ylabel(\"Frecuencia\")\n",
    "plt.show()"
   ],
   "id": "1db2bc514a6ad56c",
   "outputs": [
    {
     "data": {
      "text/plain": [
       "<Figure size 640x480 with 1 Axes>"
      ],
      "image/png": "[encoded data removed]"
     },
     "metadata": {},
     "output_type": "display_data"
    }
   ],
   "execution_count": 15
  }
 ],
 "metadata": {
  "kernelspec": {
   "display_name": "Python 3",
   "language": "python",
   "name": "python3"
  },
  "language_info": {
   "codemirror_mode": {
    "name": "ipython",
    "version": 2
   },
   "file_extension": ".py",
   "mimetype": "text/x-python",
   "name": "python",
   "nbconvert_exporter": "python",
   "pygments_lexer": "ipython2",
   "version": "2.7.6"
  }
 },
 "nbformat": 4,
 "nbformat_minor": 5
}
